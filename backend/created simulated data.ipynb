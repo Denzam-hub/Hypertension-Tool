{
 "cells": [
  {
   "cell_type": "code",
   "execution_count": 3,
   "metadata": {},
   "outputs": [],
   "source": [
    "import pandas as pd\n",
    "import numpy as np\n",
    "from datetime import datetime, timedelta"
   ]
  },
  {
   "cell_type": "code",
   "execution_count": 4,
   "metadata": {},
   "outputs": [],
   "source": [
    "# Parameters\n",
    "num_patients = 10  # Number of patients\n",
    "readings_per_patient = 100  # Number of readings per patient\n",
    "start_date = datetime(2023, 10, 1)  # Start date for timestamps"
   ]
  },
  {
   "cell_type": "code",
   "execution_count": 5,
   "metadata": {},
   "outputs": [],
   "source": [
    "# Function to generate BP data\n",
    "def generate_bp_data():\n",
    "    systolic = np.random.normal(120, 10)  # Mean = 120, Std Dev = 10\n",
    "    diastolic = np.random.normal(80, 5)   # Mean = 80, Std Dev = 5\n",
    "    heart_rate = np.random.normal(75, 5)  # Mean = 75, Std Dev = 5\n",
    "    return systolic, diastolic, heart_rate"
   ]
  },
  {
   "cell_type": "code",
   "execution_count": 6,
   "metadata": {},
   "outputs": [],
   "source": [
    "# Create an empty DataFrame\n",
    "data = []"
   ]
  },
  {
   "cell_type": "code",
   "execution_count": 7,
   "metadata": {},
   "outputs": [],
   "source": [
    "# Generate data for each patient\n",
    "for patient_id in range(1, num_patients + 1):\n",
    "    for reading in range(readings_per_patient):\n",
    "        systolic, diastolic, heart_rate = generate_bp_data()\n",
    "        timestamp = start_date + timedelta(minutes=15 * reading)  # 15-minute intervals\n",
    "        data.append([patient_id, systolic, diastolic, heart_rate, timestamp])"
   ]
  },
  {
   "cell_type": "code",
   "execution_count": 8,
   "metadata": {},
   "outputs": [],
   "source": [
    "# Convert to DataFrame\n",
    "columns = [\"Patient ID\", \"Systolic BP\", \"Diastolic BP\", \"Heart Rate\", \"Timestamp\"]\n",
    "df = pd.DataFrame(data, columns=columns)"
   ]
  },
  {
   "cell_type": "code",
   "execution_count": 9,
   "metadata": {},
   "outputs": [
    {
     "name": "stdout",
     "output_type": "stream",
     "text": [
      "Simulated BP data saved to 'simulated_bp_data.csv'\n"
     ]
    }
   ],
   "source": [
    "# Save to CSV\n",
    "df.to_csv(\"simulated_bp_data.csv\", index=False)\n",
    "print(\"Simulated BP data saved to 'simulated_bp_data.csv'\")"
   ]
  }
 ],
 "metadata": {
  "kernelspec": {
   "display_name": "Python 3",
   "language": "python",
   "name": "python3"
  },
  "language_info": {
   "codemirror_mode": {
    "name": "ipython",
    "version": 3
   },
   "file_extension": ".py",
   "mimetype": "text/x-python",
   "name": "python",
   "nbconvert_exporter": "python",
   "pygments_lexer": "ipython3",
   "version": "3.11.5"
  }
 },
 "nbformat": 4,
 "nbformat_minor": 2
}
