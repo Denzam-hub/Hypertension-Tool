{
 "cells": [
  {
   "cell_type": "code",
   "execution_count": 9,
   "metadata": {},
   "outputs": [],
   "source": [
    "import pandas as pd\n",
    "\n",
    "# Load the dataset\n",
    "df = pd.read_csv(\"simulated_bp_data.csv\")\n"
   ]
  },
  {
   "cell_type": "code",
   "execution_count": 10,
   "metadata": {},
   "outputs": [],
   "source": [
    "# Function to classify BP\n",
    "def classify_bp(systolic, diastolic):\n",
    "    if systolic < 120 and diastolic < 80:\n",
    "        return \"Normal\"\n",
    "    elif 120 <= systolic <= 129 and diastolic < 80:\n",
    "        return \"Elevated\"\n",
    "    elif 130 <= systolic <= 139 or 80 <= diastolic <= 89:\n",
    "        return \"Hypertension Stage 1\"\n",
    "    else:\n",
    "        return \"Hypertension Stage 2\""
   ]
  },
  {
   "cell_type": "code",
   "execution_count": 11,
   "metadata": {},
   "outputs": [],
   "source": [
    "# Add a new column for the category\n",
    "df[\"Category\"] = df.apply(lambda row: classify_bp(row[\"Systolic BP\"], row[\"Diastolic BP\"]), axis=1)\n"
   ]
  },
  {
   "cell_type": "code",
   "execution_count": 12,
   "metadata": {},
   "outputs": [
    {
     "name": "stdout",
     "output_type": "stream",
     "text": [
      "Labeled BP data saved to 'labeled_bp_data.csv'\n"
     ]
    }
   ],
   "source": [
    "# Save the updated dataset\n",
    "df.to_csv(\"labeled_bp_data.csv\", index=False)\n",
    "print(\"Labeled BP data saved to 'labeled_bp_data.csv'\")\n"
   ]
  },
  {
   "cell_type": "code",
   "execution_count": 13,
   "metadata": {},
   "outputs": [
    {
     "name": "stdout",
     "output_type": "stream",
     "text": [
      "   Patient ID  Systolic BP  Diastolic BP  Heart Rate            Timestamp  \\\n",
      "0           1   111.650664     80.732233   64.729996  2023-10-01 00:00:00   \n",
      "1           1   115.248587     84.240755   76.165165  2023-10-01 00:15:00   \n",
      "2           1   120.213294     86.227280   75.470877  2023-10-01 00:30:00   \n",
      "3           1   108.091682     82.071017   73.290267  2023-10-01 00:45:00   \n",
      "4           1   122.632652     80.295333   72.990401  2023-10-01 01:00:00   \n",
      "\n",
      "               Category  \n",
      "0  Hypertension Stage 1  \n",
      "1  Hypertension Stage 1  \n",
      "2  Hypertension Stage 1  \n",
      "3  Hypertension Stage 1  \n",
      "4  Hypertension Stage 1  \n"
     ]
    }
   ],
   "source": [
    "# Display the first 5 rows\n",
    "print(df.head())"
   ]
  },
  {
   "cell_type": "code",
   "execution_count": 14,
   "metadata": {},
   "outputs": [
    {
     "data": {
      "image/png": "[encoded data removed]",
      "text/plain": [
       "<Figure size 800x600 with 1 Axes>"
      ]
     },
     "metadata": {},
     "output_type": "display_data"
    }
   ],
   "source": [
    "import matplotlib.pyplot as plt\n",
    "\n",
    "# Count the number of readings in each category\n",
    "category_counts = df[\"Category\"].value_counts()\n",
    "\n",
    "# Plot the distribution\n",
    "plt.figure(figsize=(8, 6))\n",
    "category_counts.plot(kind=\"bar\", color=\"skyblue\")\n",
    "plt.title(\"Distribution of Hypertension Categories\")\n",
    "plt.xlabel(\"Category\")\n",
    "plt.ylabel(\"Number of Readings\")\n",
    "plt.xticks(rotation=45)\n",
    "plt.tight_layout()\n",
    "plt.show()"
   ]
  },
  {
   "cell_type": "code",
   "execution_count": 15,
   "metadata": {},
   "outputs": [
    {
     "name": "stdout",
     "output_type": "stream",
     "text": [
      "Training set size: (800, 3)\n",
      "Testing set size: (200, 3)\n"
     ]
    },
    {
     "data": {
      "text/plain": [
       "['label_encoder.pkl']"
      ]
     },
     "execution_count": 15,
     "metadata": {},
     "output_type": "execute_result"
    }
   ],
   "source": [
    "from sklearn.model_selection import train_test_split\n",
    "from sklearn.preprocessing import LabelEncoder\n",
    "import joblib\n",
    "# Features and labels\n",
    "X = df[[\"Systolic BP\", \"Diastolic BP\", \"Heart Rate\"]]\n",
    "y = df[\"Category\"]\n",
    "\n",
    "# Encode labels into numerical values\n",
    "label_encoder = LabelEncoder()\n",
    "y_encoded = label_encoder.fit_transform(y)\n",
    "\n",
    "# Split the data into training and testing sets\n",
    "X_train, X_test, y_train, y_test = train_test_split(X, y_encoded, test_size=0.2, random_state=42)\n",
    "\n",
    "print(\"Training set size:\", X_train.shape)\n",
    "print(\"Testing set size:\", X_test.shape)\n",
    "\n",
    "# Save the label encoder to a file\n",
    "joblib.dump(label_encoder, \"label_encoder.pkl\")"
   ]
  },
  {
   "cell_type": "code",
   "execution_count": 16,
   "metadata": {},
   "outputs": [
    {
     "name": "stdout",
     "output_type": "stream",
     "text": [
      "Accuracy: 0.97\n",
      "\n",
      "Classification Report:\n",
      "                       precision    recall  f1-score   support\n",
      "\n",
      "            Elevated       0.95      1.00      0.97        36\n",
      "Hypertension Stage 1       0.96      1.00      0.98        95\n",
      "Hypertension Stage 2       1.00      0.67      0.80        15\n",
      "              Normal       1.00      0.98      0.99        54\n",
      "\n",
      "            accuracy                           0.97       200\n",
      "           macro avg       0.98      0.91      0.94       200\n",
      "        weighted avg       0.97      0.97      0.97       200\n",
      "\n"
     ]
    }
   ],
   "source": [
    "from sklearn.ensemble import RandomForestClassifier\n",
    "from sklearn.metrics import classification_report, accuracy_score\n",
    "\n",
    "# Initialize the model\n",
    "model = RandomForestClassifier(random_state=42)\n",
    "\n",
    "# Train the model\n",
    "model.fit(X_train, y_train)\n",
    "\n",
    "# Make predictions on the test set\n",
    "y_pred = model.predict(X_test)\n",
    "\n",
    "# Evaluate the model\n",
    "print(\"Accuracy:\", accuracy_score(y_test, y_pred))\n",
    "print(\"\\nClassification Report:\\n\", classification_report(y_test, y_pred, target_names=label_encoder.classes_))"
   ]
  },
  {
   "cell_type": "code",
   "execution_count": 17,
   "metadata": {},
   "outputs": [
    {
     "name": "stdout",
     "output_type": "stream",
     "text": [
      "Model saved as 'hypertension_classifier.pkl'\n"
     ]
    }
   ],
   "source": [
    "import joblib\n",
    "\n",
    "# Save the model\n",
    "joblib.dump(model, \"hypertension_classifier.pkl\")\n",
    "print(\"Model saved as 'hypertension_classifier.pkl'\")"
   ]
  },
  {
   "cell_type": "code",
   "execution_count": 18,
   "metadata": {},
   "outputs": [
    {
     "name": "stdout",
     "output_type": "stream",
     "text": [
      "Balanced class distribution: 1    431\n",
      "0    431\n",
      "3    431\n",
      "2    431\n",
      "Name: count, dtype: int64\n"
     ]
    }
   ],
   "source": [
    "from imblearn.over_sampling import SMOTE\n",
    "# Apply SMOTE to balance the dataset\n",
    "smote = SMOTE(random_state=42)\n",
    "X_train_balanced, y_train_balanced = smote.fit_resample(X_train, y_train)\n",
    "\n",
    "# Check the new distribution of classes\n",
    "print(\"Balanced class distribution:\", pd.Series(y_train_balanced).value_counts())"
   ]
  },
  {
   "cell_type": "code",
   "execution_count": 19,
   "metadata": {},
   "outputs": [
    {
     "name": "stdout",
     "output_type": "stream",
     "text": [
      "Accuracy (Balanced Model): 0.97\n",
      "\n",
      "Classification Report (Balanced Model):\n",
      "                       precision    recall  f1-score   support\n",
      "\n",
      "            Elevated       1.00      1.00      1.00        36\n",
      "Hypertension Stage 1       0.97      0.97      0.97        95\n",
      "Hypertension Stage 2       0.80      0.80      0.80        15\n",
      "              Normal       1.00      1.00      1.00        54\n",
      "\n",
      "            accuracy                           0.97       200\n",
      "           macro avg       0.94      0.94      0.94       200\n",
      "        weighted avg       0.97      0.97      0.97       200\n",
      "\n"
     ]
    }
   ],
   "source": [
    "# Retrain the model on balanced data\n",
    "model_balanced = RandomForestClassifier(random_state=42)\n",
    "model_balanced.fit(X_train_balanced, y_train_balanced)\n",
    "\n",
    "# Make predictions on the test set\n",
    "y_pred_balanced = model_balanced.predict(X_test)\n",
    "\n",
    "# Evaluate the model\n",
    "print(\"Accuracy (Balanced Model):\", accuracy_score(y_test, y_pred_balanced))\n",
    "print(\"\\nClassification Report (Balanced Model):\\n\", classification_report(y_test, y_pred_balanced, target_names=label_encoder.classes_))"
   ]
  },
  {
   "cell_type": "code",
   "execution_count": 20,
   "metadata": {},
   "outputs": [
    {
     "name": "stdout",
     "output_type": "stream",
     "text": [
      "Accuracy (XGBoost): 0.99\n",
      "\n",
      "Classification Report (XGBoost):\n",
      "                       precision    recall  f1-score   support\n",
      "\n",
      "            Elevated       1.00      1.00      1.00        36\n",
      "Hypertension Stage 1       0.99      0.99      0.99        95\n",
      "Hypertension Stage 2       1.00      0.93      0.97        15\n",
      "              Normal       0.98      1.00      0.99        54\n",
      "\n",
      "            accuracy                           0.99       200\n",
      "           macro avg       0.99      0.98      0.99       200\n",
      "        weighted avg       0.99      0.99      0.99       200\n",
      "\n"
     ]
    }
   ],
   "source": [
    "from xgboost import XGBClassifier\n",
    "\n",
    "# Initialize and train the XGBoost model\n",
    "xgb_model = XGBClassifier(random_state=42)\n",
    "xgb_model.fit(X_train_balanced, y_train_balanced)\n",
    "\n",
    "# Make predictions on the test set\n",
    "y_pred_xgb = xgb_model.predict(X_test)\n",
    "\n",
    "# Evaluate the model\n",
    "print(\"Accuracy (XGBoost):\", accuracy_score(y_test, y_pred_xgb))\n",
    "print(\"\\nClassification Report (XGBoost):\\n\", classification_report(y_test, y_pred_xgb, target_names=label_encoder.classes_))\n"
   ]
  },
  {
   "cell_type": "code",
   "execution_count": 21,
   "metadata": {},
   "outputs": [
    {
     "name": "stdout",
     "output_type": "stream",
     "text": [
      "XGBoost model saved as 'hypertension_classifier_xgb.pkl'\n"
     ]
    }
   ],
   "source": [
    "import joblib\n",
    "\n",
    "# Save the best model (e.g., XGBoost)\n",
    "joblib.dump(xgb_model, \"hypertension_classifier_xgb.pkl\")\n",
    "print(\"XGBoost model saved as 'hypertension_classifier_xgb.pkl'\")"
   ]
  },
  {
   "cell_type": "code",
   "execution_count": 22,
   "metadata": {},
   "outputs": [],
   "source": [
    "model = joblib.load(\"hypertension_classifier_xgb.pkl\")"
   ]
  },
  {
   "cell_type": "code",
   "execution_count": 23,
   "metadata": {},
   "outputs": [],
   "source": [
    "def predict_hypertension(systolic, diastolic, heart_rate):\n",
    "    input_data = [[systolic, diastolic, heart_rate]]\n",
    "    prediction = model.predict(input_data)\n",
    "    return label_encoder.inverse_transform(prediction)[0]"
   ]
  },
  {
   "cell_type": "code",
   "execution_count": 24,
   "metadata": {},
   "outputs": [
    {
     "name": "stdout",
     "output_type": "stream",
     "text": [
      "Predicted Category: Hypertension Stage 1\n"
     ]
    }
   ],
   "source": [
    "result = predict_hypertension(140, 90, 80)\n",
    "print(\"Predicted Category:\", result)  # Output: \"Hypertension Stage 2\""
   ]
  }
 ],
 "metadata": {
  "kernelspec": {
   "display_name": "Python 3",
   "language": "python",
   "name": "python3"
  },
  "language_info": {
   "codemirror_mode": {
    "name": "ipython",
    "version": 3
   },
   "file_extension": ".py",
   "mimetype": "text/x-python",
   "name": "python",
   "nbconvert_exporter": "python",
   "pygments_lexer": "ipython3",
   "version": "3.11.5"
  }
 },
 "nbformat": 4,
 "nbformat_minor": 2
}
