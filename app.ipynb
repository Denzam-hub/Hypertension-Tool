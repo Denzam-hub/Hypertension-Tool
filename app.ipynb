{
 "cells": [
  {
   "cell_type": "code",
   "execution_count": 1,
   "metadata": {},
   "outputs": [],
   "source": [
    "from flask import Flask, request, jsonify\n",
    "import joblib\n",
    "import numpy as np\n",
    "from threading import Thread"
   ]
  },
  {
   "cell_type": "code",
   "execution_count": 2,
   "metadata": {},
   "outputs": [],
   "source": [
    "# Load the trained model and label encoder\n",
    "model = joblib.load(\"hypertension_classifier_xgb.pkl\")\n",
    "label_encoder = joblib.load(\"label_encoder.pkl\")  # Save this during preprocessing"
   ]
  },
  {
   "cell_type": "code",
   "execution_count": 3,
   "metadata": {},
   "outputs": [],
   "source": [
    "# Initialize Flask app\n",
    "app = Flask(__name__)"
   ]
  },
  {
   "cell_type": "code",
   "execution_count": 8,
   "metadata": {},
   "outputs": [],
   "source": [
    "# Define a function to provide treatment recommendations\n",
    "def get_treatment_recommendation(category):\n",
    "    recommendations = {\n",
    "        \"Normal\": \"Maintain a healthy lifestyle with regular exercise and a balanced diet.\",\n",
    "        \"Elevated\": \"Monitor your blood pressure regularly. Consider reducing salt intake and increasing physical activity.\",\n",
    "        \"Hypertension Stage 1\": \"Consult a doctor. You may need lifestyle changes and possibly medication.\",\n",
    "        \"Hypertension Stage 2\": \"Seek immediate medical attention. Medication and lifestyle changes are essential.\",\n",
    "    }\n",
    "    return recommendations.get(category, \"No recommendation available.\")"
   ]
  },
  {
   "cell_type": "code",
   "execution_count": 9,
   "metadata": {},
   "outputs": [],
   "source": [
    "# Define the prediction endpoint\n",
    "@app.route(\"/predict\", methods=[\"POST\"])\n",
    "def predict():\n",
    "    try:\n",
    "        # Get data from the request\n",
    "        data = request.json\n",
    "        systolic = data.get(\"systolic\")\n",
    "        diastolic = data.get(\"diastolic\")\n",
    "        heart_rate = data.get(\"heart_rate\")\n",
    "\n",
    "        # Validate input\n",
    "        if not all([systolic, diastolic, heart_rate]):\n",
    "            return jsonify({\"error\": \"Missing data. Please provide systolic, diastolic, and heart rate.\"}), 400\n",
    "\n",
    "        # Prepare input for the model\n",
    "        input_data = np.array([[systolic, diastolic, heart_rate]])\n",
    "\n",
    "        # Make prediction\n",
    "        prediction = model.predict(input_data)\n",
    "        category = label_encoder.inverse_transform(prediction)[0]\n",
    "\n",
    "        # Get treatment recommendation\n",
    "        recommendation = get_treatment_recommendation(category)\n",
    "\n",
    "        # Return the result\n",
    "        return jsonify({\n",
    "            \"category\": category,\n",
    "            \"recommendation\": recommendation\n",
    "        })\n",
    "    except Exception as e:\n",
    "        return jsonify({\"error\": str(e)}), 500"
   ]
  },
  {
   "cell_type": "code",
   "execution_count": null,
   "metadata": {},
   "outputs": [
    {
     "name": "stdout",
     "output_type": "stream",
     "text": [
      " * Serving Flask app '__main__'\n",
      " * Debug mode: on\n"
     ]
    },
    {
     "name": "stderr",
     "output_type": "stream",
     "text": [
      "WARNING: This is a development server. Do not use it in a production deployment. Use a production WSGI server instead.\n",
      " * Running on http://127.0.0.1:5000\n",
      "Press CTRL+C to quit\n"
     ]
    }
   ],
   "source": [
    "# Function to run the Flask app in a separate thread\n",
    "def run_flask():\n",
    "    app.run(debug=True, use_reloader=False)\n",
    "\n",
    "# Run Flask app in a separate thread\n",
    "thread = Thread(target=run_flask)\n",
    "thread.start()"
   ]
  }
 ],
 "metadata": {
  "kernelspec": {
   "display_name": "Python 3",
   "language": "python",
   "name": "python3"
  },
  "language_info": {
   "codemirror_mode": {
    "name": "ipython",
    "version": 3
   },
   "file_extension": ".py",
   "mimetype": "text/x-python",
   "name": "python",
   "nbconvert_exporter": "python",
   "pygments_lexer": "ipython3",
   "version": "3.11.5"
  }
 },
 "nbformat": 4,
 "nbformat_minor": 2
}
